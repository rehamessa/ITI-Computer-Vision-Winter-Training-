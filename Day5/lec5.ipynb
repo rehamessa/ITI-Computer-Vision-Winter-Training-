{
 "cells": [
  {
   "cell_type": "code",
   "execution_count": 2,
   "metadata": {},
   "outputs": [],
   "source": [
    "import cv2 \n",
    "import numpy as np\n",
    "import matplotlib.pyplot as plt\n"
   ]
  },
  {
   "cell_type": "code",
   "execution_count": 3,
   "metadata": {},
   "outputs": [],
   "source": [
    "def nothing(x):\n",
    "    pass\n",
    "cv2.namedWindow(\"image\")\n",
    "cv2.createTrackbar('val','image',10,255,nothing)\n",
    "img=np.zeros((500,500,1),np.uint8)\n",
    "while 1:\n",
    "    val=cv2.getTrackbarPos('val',\"image\")\n",
    "    img[:]=val\n",
    "    cv2.imshow(\"image\",img)\n",
    "    k=cv2.waitKey(1)\n",
    "    if k==ord(\"q\"):\n",
    "        break\n",
    "cv2.destroyAllWindows()\n"
   ]
  },
  {
   "cell_type": "markdown",
   "metadata": {},
   "source": [
    "#### create tracker for rgb python code"
   ]
  },
  {
   "cell_type": "code",
   "execution_count": null,
   "metadata": {},
   "outputs": [],
   "source": [
    "\n",
    "import cv2  \n",
    "import numpy as np\n",
    "def nothing(x):\n",
    "\tpass\n",
    "cv2.namedWindow('controls',2)\n",
    "cv2.resizeWindow(\"controls\", 550,10);\n",
    "cv2.createTrackbar('r','controls',0,255,nothing)\n",
    "cv2.createTrackbar('g','controls',0,255,nothing)\n",
    "cv2.createTrackbar('b','controls',0,255,nothing)\n",
    "while(1):\n",
    "\t\n",
    "\timg = np.zeros((512,512,3), np.uint8)\n",
    "\t\n",
    "\t \n",
    "\tr= int(cv2.getTrackbarPos('r','controls'))\n",
    "\tg=int(cv2.getTrackbarPos('g','controls'))\n",
    "\tb=int(cv2.getTrackbarPos('b','controls'))\n",
    "\n",
    "\t\n",
    "\timg[:,:,0]=b\n",
    "\timg[:,:,1]=g\n",
    "\timg[:,:,2]=r\n",
    "\n",
    "\tcv2.imshow('img',img)\n",
    "\t\n",
    "\t \n",
    "\tk = cv2.waitKey(1) & 0xFF\n",
    "\tif k == ord(\"q\"):\n",
    "\t\tbreak\n",
    "\t\t\n",
    "\n",
    "cv2.destroyAllWindows()"
   ]
  },
  {
   "cell_type": "markdown",
   "metadata": {},
   "source": [
    "#### Draw line in Diagonal"
   ]
  },
  {
   "cell_type": "code",
   "execution_count": null,
   "metadata": {},
   "outputs": [],
   "source": [
    "import numpy as np\n",
    "import cv2\n",
    "from matplotlib import pyplot as plt"
   ]
  },
  {
   "cell_type": "code",
   "execution_count": null,
   "metadata": {},
   "outputs": [
    {
     "data": {
      "text/plain": [
       "(256, 256)"
      ]
     },
     "execution_count": 9,
     "metadata": {},
     "output_type": "execute_result"
    }
   ],
   "source": [
    "img = np.zeros((256,256),np.uint8)\n",
    "img.shape"
   ]
  },
  {
   "cell_type": "code",
   "execution_count": null,
   "metadata": {},
   "outputs": [
    {
     "data": {
      "text/plain": [
       "<matplotlib.image.AxesImage at 0x1e358bf5930>"
      ]
     },
     "execution_count": 14,
     "metadata": {},
     "output_type": "execute_result"
    },
    {
     "data": {
      "image/png": "[encoded data removed]",
      "text/plain": [
       "<Figure size 432x288 with 1 Axes>"
      ]
     },
     "metadata": {
      "needs_background": "light"
     },
     "output_type": "display_data"
    }
   ],
   "source": [
    "for i,row in enumerate(img):# enumerate access indexes\n",
    "    for j,col in enumerate(img):\n",
    "        if (i==j):\n",
    "            img[i,j]=255\n",
    "plt.imshow(img,cmap=\"gray\")\n"
   ]
  },
  {
   "cell_type": "markdown",
   "metadata": {},
   "source": [
    "#### draw line in specific 'place"
   ]
  },
  {
   "cell_type": "code",
   "execution_count": null,
   "metadata": {},
   "outputs": [
    {
     "data": {
      "text/plain": [
       "<matplotlib.image.AxesImage at 0x1e35ad6eb60>"
      ]
     },
     "execution_count": 17,
     "metadata": {},
     "output_type": "execute_result"
    },
    {
     "data": {
      "image/png": "[encoded data removed]",
      "text/plain": [
       "<Figure size 432x288 with 1 Axes>"
      ]
     },
     "metadata": {
      "needs_background": "light"
     },
     "output_type": "display_data"
    }
   ],
   "source": [
    "img[90,:60]=255\n",
    "plt.imshow(img,cmap=\"gray\")\n"
   ]
  },
  {
   "cell_type": "code",
   "execution_count": null,
   "metadata": {},
   "outputs": [
    {
     "data": {
      "text/plain": [
       "<matplotlib.image.AxesImage at 0x1e35adddab0>"
      ]
     },
     "execution_count": 18,
     "metadata": {},
     "output_type": "execute_result"
    },
    {
     "data": {
      "image/png": "[encoded data removed]",
      "text/plain": [
       "<Figure size 432x288 with 1 Axes>"
      ]
     },
     "metadata": {
      "needs_background": "light"
     },
     "output_type": "display_data"
    }
   ],
   "source": [
    "img[-10,:]=255\n",
    "plt.imshow(img,cmap=\"gray\")\n"
   ]
  },
  {
   "cell_type": "markdown",
   "metadata": {},
   "source": [
    "#### create tracker for draw line"
   ]
  },
  {
   "cell_type": "code",
   "execution_count": null,
   "metadata": {},
   "outputs": [],
   "source": [
    "import cv2  \n",
    "import numpy as np\n",
    "image=np.zeros((500,500),np.uint8)\n",
    "def nothing(x):\n",
    "\tpass\n",
    "cv2.namedWindow('image')\n",
    "\n",
    "cv2.createTrackbar('row','image', 0, image.shape[0]-1,nothing)\n",
    "cv2.createTrackbar('col','image', 0, image.shape[1]-1,nothing)\n",
    "\n",
    "while(1):\n",
    "\n",
    "\trow= cv2.getTrackbarPos('row','image')\n",
    "\tcol=cv2.getTrackbarPos('col','image')\n",
    "\timage=np.zeros((500,500),np.uint8)\n",
    "\n",
    "\t\n",
    "\timage[row,:]=255\n",
    "\timage[:,col]=255\n",
    "\t\n",
    "\n",
    "\tcv2.imshow('image',image)\n",
    "\t\n",
    "\t \n",
    "\tk = cv2.waitKey(1) \n",
    "\tif k == ord(\"q\"):\n",
    "\t\tbreak\n",
    "\t\t\n",
    "\n",
    "cv2.destroyAllWindows()"
   ]
  },
  {
   "cell_type": "markdown",
   "metadata": {},
   "source": [
    "#### Draw three gradient line"
   ]
  },
  {
   "cell_type": "code",
   "execution_count": null,
   "metadata": {},
   "outputs": [
    {
     "ename": "ValueError",
     "evalue": "could not broadcast input array from shape (0,) into shape (500,3)",
     "output_type": "error",
     "traceback": [
      "\u001b[1;31m---------------------------------------------------------------------------\u001b[0m",
      "\u001b[1;31mValueError\u001b[0m                                Traceback (most recent call last)",
      "\u001b[1;32mc:\\Users\\Reham Essa\\Desktop\\iti winter\\day5\\lec5.ipynb Cell 15'\u001b[0m in \u001b[0;36m<module>\u001b[1;34m\u001b[0m\n\u001b[0;32m      <a href='vscode-notebook-cell:/c%3A/Users/Reham%20Essa/Desktop/iti%20winter/day5/lec5.ipynb#ch0000015?line=0'>1</a>\u001b[0m img1\u001b[39m=\u001b[39mnp\u001b[39m.\u001b[39mzeros((\u001b[39m500\u001b[39m,\u001b[39m500\u001b[39m,\u001b[39m3\u001b[39m),np\u001b[39m.\u001b[39muint8)\n\u001b[1;32m----> <a href='vscode-notebook-cell:/c%3A/Users/Reham%20Essa/Desktop/iti%20winter/day5/lec5.ipynb#ch0000015?line=1'>2</a>\u001b[0m img1[\u001b[39m100\u001b[39m,:]\u001b[39m=\u001b[39mnp\u001b[39m.\u001b[39marange(\u001b[39m255\u001b[39m,\u001b[39m0\u001b[39m)\n\u001b[0;32m      <a href='vscode-notebook-cell:/c%3A/Users/Reham%20Essa/Desktop/iti%20winter/day5/lec5.ipynb#ch0000015?line=3'>4</a>\u001b[0m plt\u001b[39m.\u001b[39mimshow(img1)\n",
      "\u001b[1;31mValueError\u001b[0m: could not broadcast input array from shape (0,) into shape (500,3)"
     ]
    }
   ],
   "source": [
    "img1=np.zeros((500,500,3),np.uint8)\n",
    "img1[100,:]=np.arange(255,0)\n",
    "\n",
    "plt.imshow(img1)"
   ]
  },
  {
   "cell_type": "code",
   "execution_count": null,
   "metadata": {},
   "outputs": [
    {
     "data": {
      "text/plain": [
       "<matplotlib.image.AxesImage at 0x143c76236d0>"
      ]
     },
     "execution_count": 16,
     "metadata": {},
     "output_type": "execute_result"
    },
    {
     "data": {
      "image/png": "[encoded data removed]",
      "text/plain": [
       "<Figure size 576x576 with 1 Axes>"
      ]
     },
     "metadata": {
      "needs_background": "light"
     },
     "output_type": "display_data"
    }
   ],
   "source": [
    "img=np.zeros((400,800,3),np.uint8)\n",
    "font=cv2.FONT_HERSHEY_COMPLEX\n",
    "cv2.putText(img,'welcome',(2,150),font,1,(255,255,0),2)\n",
    "plt.figure(figsize=(8,8))\n",
    "plt.imshow(img)"
   ]
  },
  {
   "cell_type": "markdown",
   "metadata": {},
   "source": [
    "#### Draw a circle with"
   ]
  },
  {
   "cell_type": "code",
   "execution_count": 4,
   "metadata": {},
   "outputs": [],
   "source": [
    "img2=np.zeros((500,500,3),np.uint8)\n",
    "\n",
    "\n"
   ]
  },
  {
   "cell_type": "code",
   "execution_count": 6,
   "metadata": {},
   "outputs": [
    {
     "data": {
      "text/plain": [
       "<matplotlib.image.AxesImage at 0x24fd5a36740>"
      ]
     },
     "execution_count": 6,
     "metadata": {},
     "output_type": "execute_result"
    },
    {
     "data": {
      "image/png": "[encoded data removed]",
      "text/plain": [
       "<Figure size 432x288 with 1 Axes>"
      ]
     },
     "metadata": {
      "needs_background": "light"
     },
     "output_type": "display_data"
    }
   ],
   "source": [
    "img2=cv2.circle(img2,(120,101), 50,(255,255,0), 3)\n",
    "plt.imshow(img2)"
   ]
  },
  {
   "cell_type": "code",
   "execution_count": 7,
   "metadata": {},
   "outputs": [
    {
     "data": {
      "text/plain": [
       "<matplotlib.image.AxesImage at 0x24fd6a78c40>"
      ]
     },
     "execution_count": 7,
     "metadata": {},
     "output_type": "execute_result"
    },
    {
     "data": {
      "image/png": "[encoded data removed]",
      "text/plain": [
       "<Figure size 432x288 with 1 Axes>"
      ]
     },
     "metadata": {
      "needs_background": "light"
     },
     "output_type": "display_data"
    }
   ],
   "source": [
    "img2=cv2.circle(img2,(120,101), 50,(255,255,0), -1)\n",
    "plt.imshow(img2)"
   ]
  },
  {
   "cell_type": "code",
   "execution_count": null,
   "metadata": {},
   "outputs": [],
   "source": []
  }
 ],
 "metadata": {
  "interpreter": {
   "hash": "707aab0a078b6b4ae7605615109a6f7159987081daedafbf3334295fb1ab1b6c"
  },
  "kernelspec": {
   "display_name": "Python 3.10.2 64-bit",
   "language": "python",
   "name": "python3"
  },
  "language_info": {
   "codemirror_mode": {
    "name": "ipython",
    "version": 3
   },
   "file_extension": ".py",
   "mimetype": "text/x-python",
   "name": "python",
   "nbconvert_exporter": "python",
   "pygments_lexer": "ipython3",
   "version": "3.10.2"
  },
  "orig_nbformat": 4
 },
 "nbformat": 4,
 "nbformat_minor": 2
}

{
  "nbformat": 4,
  "nbformat_minor": 0,
  "metadata": {
    "colab": {
      "name": "problem.ipynb",
      "provenance": [],
      "collapsed_sections": []
    },
    "kernelspec": {
      "name": "python3",
      "display_name": "Python 3"
    },
    "language_info": {
      "name": "python"
    }
  },
  "cells": [
    {
      "cell_type": "markdown",
      "source": [
        "#### make password strength checker to check if the password has:\n",
        "* lowercase\n",
        "* upper case\n",
        "* digits \n",
        "* whitespaces \n",
        "* special characters\n",
        " #### output sample : \n",
        "* 5 lowercase \n",
        "* 1 upper case\n",
        "* 0 digits \n",
        "* 0 whitespaces\n",
        "* 2 special characters\n",
        "* password score :3/5\n",
        "* remark your password is okay ,but it can be improved\n",
        "* existing\n",
        " ###### we need to import get pass, search for it"
      ],
      "metadata": {
        "id": "5NYBOCuBkHXI"
      }
    },
    {
      "cell_type": "code",
      "source": [
        "import string\n",
        "inputStr = input(\"Enter your password:\\n\")\n",
        "countuppLetters = 0\n",
        "score1=0\n",
        "countlow=0\n",
        "score2=0\n",
        "countDigits = 0\n",
        "score3=0\n",
        "countSpec = 0\n",
        "score4=0\n",
        "countWS = 0\n",
        "score5=0\n",
        "\n",
        "for i in inputStr:\n",
        "    if i in string.ascii_uppercase : \n",
        "          countuppLetters += 1\n",
        "    \n",
        "    if i in string.ascii_lowercase:\n",
        "          countlow+=1\n",
        "     \n",
        "    if i in string.digits:\n",
        "        countDigits += 1\n",
        "\n",
        "    if i in string.punctuation:\n",
        "        countSpec += 1\n",
        "\n",
        "   \n",
        "    if i in string.whitespace:\n",
        "        countWS += 1\n",
        "print(countWS,\"whitespaces\")    \n",
        "print(countlow,\"lowercase\")  \n",
        "print (countuppLetters,\"upper case\") \n",
        "print (countDigits,\"digits\")\n",
        "print(countSpec,\"special characters\")\n",
        "\n",
        "if countWS !=0:\n",
        "  score1=+1\n",
        "if countlow !=0:\n",
        "  score2=+1\n",
        "if countuppLetters !=0:\n",
        "  score3=+1\n",
        "if countDigits !=0:\n",
        "  score4=+1\n",
        "if countSpec !=0:\n",
        "  score5=+1\n",
        "score=score5+score1+score2+score3+score4\n",
        "if score !=5:\n",
        "  print(\"remark your password is okay ,but it can be improved\")\n",
        "else:\n",
        "  print(\"remark your password seems good\")      \n",
        "print(\"score:\",score,\"/5\")    \n"
      ],
      "metadata": {
        "colab": {
          "base_uri": "https://localhost:8080/"
        },
        "id": "9AXxp0NpjIDl",
        "outputId": "5b49d13d-618c-4259-923e-86f573fafc5f"
      },
      "execution_count": null,
      "outputs": [
        {
          "output_type": "stream",
          "name": "stdout",
          "text": [
            "Enter your password:\n",
            "reHam@1\n",
            "0 whitespaces\n",
            "4 lowercase\n",
            "1 upper case\n",
            "1 digits\n",
            "1 special characters\n",
            "remark your password is okay ,but it can be improved\n",
            "score: 4 /5\n"
          ]
        }
      ]
    },
    {
      "cell_type": "code",
      "source": [
        ""
      ],
      "metadata": {
        "id": "3v7gBA1Ckwow"
      },
      "execution_count": null,
      "outputs": []
    }
  ]
}
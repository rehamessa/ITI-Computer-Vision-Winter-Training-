{
 "cells": [
  {
   "cell_type": "markdown",
   "metadata": {},
   "source": [
    "#### input  3 ages and get the oldest and the youngest"
   ]
  },
  {
   "cell_type": "code",
   "execution_count": 5,
   "metadata": {},
   "outputs": [],
   "source": [
    "age1=int(input())\n",
    "age2=int(input())\n",
    "age3=int(input())"
   ]
  },
  {
   "cell_type": "code",
   "execution_count": 9,
   "metadata": {},
   "outputs": [
    {
     "name": "stdout",
     "output_type": "stream",
     "text": [
      "3\n"
     ]
    }
   ],
   "source": [
    "\n",
    "if age1>age2 and age1>age3:\n",
    "    print(age1)\n",
    "elif age2>age1 and age2>age3:\n",
    "    print(age2)\n",
    "else:\n",
    "    print(age3)   \n",
    "   \n"
   ]
  },
  {
   "cell_type": "code",
   "execution_count": 8,
   "metadata": {},
   "outputs": [
    {
     "name": "stdout",
     "output_type": "stream",
     "text": [
      "1\n"
     ]
    }
   ],
   "source": [
    "if age1<age2 and age1<age3:\n",
    "    print(age1)\n",
    "elif age2<age1 and age2<age3:\n",
    "    print(age2)\n",
    "else:\n",
    "    print(age3)   "
   ]
  },
  {
   "cell_type": "code",
   "execution_count": 11,
   "metadata": {},
   "outputs": [
    {
     "name": "stdout",
     "output_type": "stream",
     "text": [
      "sucess\n"
     ]
    }
   ],
   "source": [
    "num=int(input())\n",
    "if num in range(15,65):\n",
    "    print(\"sucess\")\n",
    "else:\n",
    "    print(\"not sucess\")    "
   ]
  },
  {
   "cell_type": "markdown",
   "metadata": {},
   "source": [
    "#### Create Random password Generator of alphabets \n",
    "* pass length = 6\n",
    "#### Note: use random liberary"
   ]
  },
  {
   "cell_type": "code",
   "execution_count": 20,
   "metadata": {},
   "outputs": [
    {
     "data": {
      "text/plain": [
       "'98U0S6'"
      ]
     },
     "execution_count": 20,
     "metadata": {},
     "output_type": "execute_result"
    }
   ],
   "source": [
    "import string\n",
    "import random\n",
    "def id_generator(size=6, chars=string.ascii_uppercase + string.digits):\n",
    "    return ''.join(random.choice(chars) for _ in range(size))\n",
    "id_generator()"
   ]
  },
  {
   "cell_type": "markdown",
   "metadata": {},
   "source": [
    "### tempreture converter from c to f and from f to c depend on user choice by taking the input from user \n",
    "* 1. from c to f\n",
    "* 2. from f to c"
   ]
  },
  {
   "cell_type": "code",
   "execution_count": 16,
   "metadata": {},
   "outputs": [
    {
     "name": "stdout",
     "output_type": "stream",
     "text": [
      "37.00 Celsius is: 98.60 Fahrenheit\n"
     ]
    }
   ],
   "source": [
    "c = float(input(\"Enter temperature in celsius: \"))\n",
    "f = (c * 9/5) + 32\n",
    "print('%.2f Celsius is: %0.2f Fahrenheit' %(c, f))"
   ]
  },
  {
   "cell_type": "code",
   "execution_count": 17,
   "metadata": {},
   "outputs": [
    {
     "name": "stdout",
     "output_type": "stream",
     "text": [
      "88.00 Fahrenheit is: 31.11 Celsius\n"
     ]
    }
   ],
   "source": [
    "f = float(input(\"Enter temperature in fahrenheit: \"))\n",
    "c = (f - 32) * 5/9\n",
    "print('%.2f Fahrenheit is: %0.2f Celsius' %(f, c))\n"
   ]
  },
  {
   "cell_type": "markdown",
   "metadata": {},
   "source": [
    "#### count the number 100 to -50"
   ]
  },
  {
   "cell_type": "code",
   "execution_count": 25,
   "metadata": {},
   "outputs": [
    {
     "name": "stdout",
     "output_type": "stream",
     "text": [
      "100\n",
      "98\n",
      "96\n",
      "94\n",
      "92\n",
      "90\n",
      "88\n",
      "86\n",
      "84\n",
      "82\n",
      "80\n",
      "78\n",
      "76\n",
      "74\n",
      "72\n",
      "70\n",
      "68\n",
      "66\n",
      "64\n",
      "62\n",
      "60\n",
      "58\n",
      "56\n",
      "54\n",
      "52\n",
      "50\n",
      "48\n",
      "46\n",
      "44\n",
      "42\n",
      "40\n",
      "38\n",
      "36\n",
      "34\n",
      "32\n",
      "30\n",
      "28\n",
      "26\n",
      "24\n",
      "22\n",
      "20\n",
      "18\n",
      "16\n",
      "14\n",
      "12\n",
      "10\n",
      "8\n",
      "6\n",
      "4\n",
      "2\n",
      "0\n",
      "-2\n",
      "-4\n",
      "-6\n",
      "-8\n",
      "-10\n",
      "-12\n",
      "-14\n",
      "-16\n",
      "-18\n",
      "-20\n",
      "-22\n",
      "-24\n",
      "-26\n",
      "-28\n",
      "-30\n",
      "-32\n",
      "-34\n",
      "-36\n",
      "-38\n",
      "-40\n",
      "-42\n",
      "-44\n",
      "-46\n",
      "-48\n"
     ]
    }
   ],
   "source": [
    "for i in range(100,-50,-2):\n",
    "    print (i)"
   ]
  },
  {
   "cell_type": "markdown",
   "metadata": {},
   "source": [
    "#### Write a function that count vowels in a sentence from user input.\n"
   ]
  },
  {
   "cell_type": "code",
   "execution_count": 26,
   "metadata": {},
   "outputs": [
    {
     "name": "stdout",
     "output_type": "stream",
     "text": [
      "1 1 1 1 1\n"
     ]
    }
   ],
   "source": [
    "inputString = str(input(\"Please type a sentence: \"))\n",
    "a = \"a\"\n",
    "A = \"A\"\n",
    "e = \"e\"\n",
    "E = \"E\"\n",
    "i = \"i\"\n",
    "I = \"I\"\n",
    "o = \"o\"\n",
    "O = \"O\"\n",
    "u = \"u\"\n",
    "U = \"U\"\n",
    "acount = 0\n",
    "ecount = 0\n",
    "icount = 0\n",
    "ocount = 0\n",
    "ucount = 0\n",
    "\n",
    "if A or a in stri :\n",
    "     acount = acount + 1\n",
    "\n",
    "if E or e in stri :\n",
    "     ecount = ecount + 1\n",
    "\n",
    "if I or i in stri :\n",
    "    icount = icount + 1\n",
    "\n",
    "if o or O in stri :\n",
    "     ocount = ocount + 1\n",
    "\n",
    "if u or U in stri :\n",
    "     ucount = ucount + 1\n",
    "\n",
    "print(acount, ecount, icount, ocount, ucount)"
   ]
  },
  {
   "cell_type": "markdown",
   "metadata": {},
   "source": [
    "#### 2.Write a program to display the last digit of a number."
   ]
  },
  {
   "cell_type": "code",
   "execution_count": 28,
   "metadata": {},
   "outputs": [
    {
     "name": "stdout",
     "output_type": "stream",
     "text": [
      "3\n"
     ]
    }
   ],
   "source": [
    "\n",
    "def lastDigit(n) :\n",
    "    return (n % 10)\n",
    " \n",
    "\n",
    "n =int(input())\n",
    "\n",
    "print(lastDigit(n))"
   ]
  },
  {
   "cell_type": "markdown",
   "metadata": {},
   "source": [
    "#### Generate a Python list of all the even numbers between 4 to 30"
   ]
  },
  {
   "cell_type": "code",
   "execution_count": 29,
   "metadata": {},
   "outputs": [
    {
     "name": "stdout",
     "output_type": "stream",
     "text": [
      "[5, 7, 9, 11, 13, 15, 17, 19, 21, 23, 25, 27, 29]\n"
     ]
    }
   ],
   "source": [
    "list1=[]\n",
    "for i in range(4,30):\n",
    "    if i %2 !=0 :\n",
    "        list1.append(i)\n",
    "print(list1)       \n",
    "        "
   ]
  },
  {
   "cell_type": "markdown",
   "metadata": {},
   "source": [
    "#### Make Method to Return the Maximum and Minimum  item from the given list. lst=[100,30,22,40,60,20,10,300]"
   ]
  },
  {
   "cell_type": "code",
   "execution_count": 32,
   "metadata": {},
   "outputs": [
    {
     "name": "stdout",
     "output_type": "stream",
     "text": [
      "10\n",
      "300\n"
     ]
    }
   ],
   "source": [
    "lst=[100,30,22,40,60,20,10,300]\n",
    "print(min(lst))\n",
    "print(max(lst))\n"
   ]
  },
  {
   "cell_type": "markdown",
   "metadata": {},
   "source": [
    "#### Use a loop to display elements from a given list that are present at odd index positions\n",
    "lst = [10, 20, 30, 40, 50, 60, 70, 80, 90, 100]"
   ]
  },
  {
   "cell_type": "code",
   "execution_count": 34,
   "metadata": {},
   "outputs": [
    {
     "name": "stdout",
     "output_type": "stream",
     "text": [
      "10\n",
      "30\n",
      "50\n",
      "70\n",
      "90\n"
     ]
    }
   ],
   "source": [
    "lst = [10, 20, 30, 40, 50, 60, 70, 80, 90, 100]\n",
    "for i in range(0, len(lst), 2):    \n",
    "    print(lst[i]);     \n",
    "  "
   ]
  },
  {
   "cell_type": "markdown",
   "metadata": {},
   "source": [
    "#### Write a program to accept a number from 1 to 7 and display the name of the day like 1 for Sunday , 2 for Monday and so on."
   ]
  },
  {
   "cell_type": "code",
   "execution_count": 35,
   "metadata": {},
   "outputs": [
    {
     "name": "stdout",
     "output_type": "stream",
     "text": [
      "Monday\n"
     ]
    }
   ],
   "source": [
    "weekday = int(input(\"Enter weekday day number (1-7) : \"))\n",
    "\n",
    "if weekday == 1 :\n",
    "    print(\"Sunday\")\n",
    "\n",
    "elif weekday == 2 :\n",
    "    print(\"Monday\")\n",
    "\n",
    "elif(weekday == 3) :\n",
    "    print(\"Tuesdayy\")\n",
    "\n",
    "elif(weekday == 4) :\n",
    "    print(\"Wednesday\")\n",
    "\n",
    "elif(weekday == 5) :\n",
    "    print(\"Thursday\")\n",
    "\n",
    "elif(weekday == 6) :\n",
    "    print(\"Friday\")\n",
    "\n",
    "elif (weekday == 7) :\n",
    "    print(\"Saturday\")\n",
    "\n",
    "else :\n",
    "    print(\"Please enter weekday number between 1-7.\")"
   ]
  },
  {
   "cell_type": "code",
   "execution_count": null,
   "metadata": {},
   "outputs": [],
   "source": []
  }
 ],
 "metadata": {
  "interpreter": {
   "hash": "707aab0a078b6b4ae7605615109a6f7159987081daedafbf3334295fb1ab1b6c"
  },
  "kernelspec": {
   "display_name": "Python 3.10.2 64-bit",
   "language": "python",
   "name": "python3"
  },
  "language_info": {
   "codemirror_mode": {
    "name": "ipython",
    "version": 3
   },
   "file_extension": ".py",
   "mimetype": "text/x-python",
   "name": "python",
   "nbconvert_exporter": "python",
   "pygments_lexer": "ipython3",
   "version": "3.10.2"
  },
  "orig_nbformat": 4
 },
 "nbformat": 4,
 "nbformat_minor": 2
}

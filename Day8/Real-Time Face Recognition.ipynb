{
 "cells": [
  {
   "cell_type": "code",
   "execution_count": null,
   "metadata": {},
   "outputs": [],
   "source": [
    "import cv2\n",
    "\n",
    "cap = cv2.VideoCapture(0)\n",
    "faceCascade = cv2.CascadeClassifier(cv2.data.haarcascades + 'haarcascade_frontalface_default.xml')\n",
    "eyeCascade = cv2.CascadeClassifier(cv2.data.haarcascades + 'haarcascade_eye.xml')\n",
    "\n",
    "while(cap.isOpened()):\n",
    "    ret, frame = cap.read()\n",
    "    if(ret):\n",
    "        gray = cv2.cvtColor(frame,cv2.COLOR_BGR2GRAY)\n",
    "        faces = faceCascade.detectMultiScale(gray, scaleFactor=1.2, minNeighbors=5,minSize=(70,70))\n",
    "        for face in faces:\n",
    "            x,y,w,h = face\n",
    "            cv2.rectangle(frame, (x,y), (x+w,y+h),(0,0,255),2)\n",
    "            face_roi = gray[y:y+h,x:x+w]\n",
    "            eyes = eyeCascade.detectMultiScale(face_roi,scaleFactor=1.2,minNeighbors=5)\n",
    "            for eye in eyes:\n",
    "                x2,y2,w2,h2 = eye\n",
    "                cv2.rectangle(frame,(x+x2,y+y2),(x+x2+w2,y+y2+h2),(255,0,0),1)\n",
    "    else:\n",
    "        break\n",
    "    cv2.imshow('Frame',frame)\n",
    "    if cv2.waitKey(1) == ord('q'):\n",
    "        break \n",
    "    cap.release()\n",
    "    cv2.destroyAllWindows()"
   ]
  }
 ],
 "metadata": {
  "interpreter": {
   "hash": "707aab0a078b6b4ae7605615109a6f7159987081daedafbf3334295fb1ab1b6c"
  },
  "kernelspec": {
   "display_name": "Python 3.10.2 64-bit",
   "language": "python",
   "name": "python3"
  },
  "language_info": {
   "codemirror_mode": {
    "name": "ipython",
    "version": 3
   },
   "file_extension": ".py",
   "mimetype": "text/x-python",
   "name": "python",
   "nbconvert_exporter": "python",
   "pygments_lexer": "ipython3",
   "version": "3.10.2"
  },
  "orig_nbformat": 4
 },
 "nbformat": 4,
 "nbformat_minor": 2
}

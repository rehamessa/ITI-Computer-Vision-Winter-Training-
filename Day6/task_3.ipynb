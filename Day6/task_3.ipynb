{
 "cells": [
  {
   "cell_type": "markdown",
   "metadata": {},
   "source": [
    "#### Valid credit card have the following constraint\n",
    "* it must start with the following didits4,5,6\n",
    "* and it most containt 16 digits\n",
    "* digit between 0,9"
   ]
  },
  {
   "cell_type": "code",
   "execution_count": 8,
   "metadata": {},
   "outputs": [
    {
     "name": "stdout",
     "output_type": "stream",
     "text": [
      "Invalid\n",
      "Invalid\n"
     ]
    },
    {
     "ename": "KeyboardInterrupt",
     "evalue": "Interrupted by user",
     "output_type": "error",
     "traceback": [
      "\u001b[1;31m---------------------------------------------------------------------------\u001b[0m",
      "\u001b[1;31mKeyboardInterrupt\u001b[0m                         Traceback (most recent call last)",
      "\u001b[1;32mc:\\Users\\Reham Essa\\Desktop\\iti winter\\Day6\\task_3.ipynb Cell 2'\u001b[0m in \u001b[0;36m<module>\u001b[1;34m\u001b[0m\n\u001b[0;32m      <a href='vscode-notebook-cell:/c%3A/Users/Reham%20Essa/Desktop/iti%20winter/Day6/task_3.ipynb#ch0000004?line=0'>1</a>\u001b[0m \u001b[39mimport\u001b[39;00m \u001b[39mre\u001b[39;00m\n\u001b[0;32m      <a href='vscode-notebook-cell:/c%3A/Users/Reham%20Essa/Desktop/iti%20winter/Day6/task_3.ipynb#ch0000004?line=1'>2</a>\u001b[0m \u001b[39mfor\u001b[39;00m i \u001b[39min\u001b[39;00m \u001b[39mrange\u001b[39m(\u001b[39mint\u001b[39m(\u001b[39minput\u001b[39m())):\n\u001b[1;32m----> <a href='vscode-notebook-cell:/c%3A/Users/Reham%20Essa/Desktop/iti%20winter/Day6/task_3.ipynb#ch0000004?line=2'>3</a>\u001b[0m     S \u001b[39m=\u001b[39m \u001b[39minput\u001b[39;49m()\u001b[39m.\u001b[39mstrip()\n\u001b[0;32m      <a href='vscode-notebook-cell:/c%3A/Users/Reham%20Essa/Desktop/iti%20winter/Day6/task_3.ipynb#ch0000004?line=3'>4</a>\u001b[0m     pre_match \u001b[39m=\u001b[39m re\u001b[39m.\u001b[39msearch(\u001b[39mr\u001b[39m\u001b[39m'\u001b[39m\u001b[39m^[456]\u001b[39m\u001b[39m\\\u001b[39m\u001b[39md\u001b[39m\u001b[39m{3}\u001b[39;00m\u001b[39m(-?)\u001b[39m\u001b[39m\\\u001b[39m\u001b[39md\u001b[39m\u001b[39m{4}\u001b[39;00m\u001b[39m\\\u001b[39m\u001b[39m1\u001b[39m\u001b[39m\\\u001b[39m\u001b[39md\u001b[39m\u001b[39m{4}\u001b[39;00m\u001b[39m\\\u001b[39m\u001b[39m1\u001b[39m\u001b[39m\\\u001b[39m\u001b[39md\u001b[39m\u001b[39m{4}\u001b[39;00m\u001b[39m$\u001b[39m\u001b[39m'\u001b[39m,S)\n\u001b[0;32m      <a href='vscode-notebook-cell:/c%3A/Users/Reham%20Essa/Desktop/iti%20winter/Day6/task_3.ipynb#ch0000004?line=4'>5</a>\u001b[0m     \u001b[39mif\u001b[39;00m pre_match:\n",
      "File \u001b[1;32m~\\AppData\\Roaming\\Python\\Python310\\site-packages\\ipykernel\\kernelbase.py:1044\u001b[0m, in \u001b[0;36mKernel.raw_input\u001b[1;34m(self, prompt)\u001b[0m\n\u001b[0;32m   <a href='file:///~/AppData/Roaming/Python/Python310/site-packages/ipykernel/kernelbase.py?line=1039'>1040</a>\u001b[0m \u001b[39mif\u001b[39;00m \u001b[39mnot\u001b[39;00m \u001b[39mself\u001b[39m\u001b[39m.\u001b[39m_allow_stdin:\n\u001b[0;32m   <a href='file:///~/AppData/Roaming/Python/Python310/site-packages/ipykernel/kernelbase.py?line=1040'>1041</a>\u001b[0m     \u001b[39mraise\u001b[39;00m StdinNotImplementedError(\n\u001b[0;32m   <a href='file:///~/AppData/Roaming/Python/Python310/site-packages/ipykernel/kernelbase.py?line=1041'>1042</a>\u001b[0m         \u001b[39m\"\u001b[39m\u001b[39mraw_input was called, but this frontend does not support input requests.\u001b[39m\u001b[39m\"\u001b[39m\n\u001b[0;32m   <a href='file:///~/AppData/Roaming/Python/Python310/site-packages/ipykernel/kernelbase.py?line=1042'>1043</a>\u001b[0m     )\n\u001b[1;32m-> <a href='file:///~/AppData/Roaming/Python/Python310/site-packages/ipykernel/kernelbase.py?line=1043'>1044</a>\u001b[0m \u001b[39mreturn\u001b[39;00m \u001b[39mself\u001b[39;49m\u001b[39m.\u001b[39;49m_input_request(\n\u001b[0;32m   <a href='file:///~/AppData/Roaming/Python/Python310/site-packages/ipykernel/kernelbase.py?line=1044'>1045</a>\u001b[0m     \u001b[39mstr\u001b[39;49m(prompt),\n\u001b[0;32m   <a href='file:///~/AppData/Roaming/Python/Python310/site-packages/ipykernel/kernelbase.py?line=1045'>1046</a>\u001b[0m     \u001b[39mself\u001b[39;49m\u001b[39m.\u001b[39;49m_parent_ident[\u001b[39m\"\u001b[39;49m\u001b[39mshell\u001b[39;49m\u001b[39m\"\u001b[39;49m],\n\u001b[0;32m   <a href='file:///~/AppData/Roaming/Python/Python310/site-packages/ipykernel/kernelbase.py?line=1046'>1047</a>\u001b[0m     \u001b[39mself\u001b[39;49m\u001b[39m.\u001b[39;49mget_parent(\u001b[39m\"\u001b[39;49m\u001b[39mshell\u001b[39;49m\u001b[39m\"\u001b[39;49m),\n\u001b[0;32m   <a href='file:///~/AppData/Roaming/Python/Python310/site-packages/ipykernel/kernelbase.py?line=1047'>1048</a>\u001b[0m     password\u001b[39m=\u001b[39;49m\u001b[39mFalse\u001b[39;49;00m,\n\u001b[0;32m   <a href='file:///~/AppData/Roaming/Python/Python310/site-packages/ipykernel/kernelbase.py?line=1048'>1049</a>\u001b[0m )\n",
      "File \u001b[1;32m~\\AppData\\Roaming\\Python\\Python310\\site-packages\\ipykernel\\kernelbase.py:1089\u001b[0m, in \u001b[0;36mKernel._input_request\u001b[1;34m(self, prompt, ident, parent, password)\u001b[0m\n\u001b[0;32m   <a href='file:///~/AppData/Roaming/Python/Python310/site-packages/ipykernel/kernelbase.py?line=1085'>1086</a>\u001b[0m             \u001b[39mbreak\u001b[39;00m\n\u001b[0;32m   <a href='file:///~/AppData/Roaming/Python/Python310/site-packages/ipykernel/kernelbase.py?line=1086'>1087</a>\u001b[0m \u001b[39mexcept\u001b[39;00m \u001b[39mKeyboardInterrupt\u001b[39;00m:\n\u001b[0;32m   <a href='file:///~/AppData/Roaming/Python/Python310/site-packages/ipykernel/kernelbase.py?line=1087'>1088</a>\u001b[0m     \u001b[39m# re-raise KeyboardInterrupt, to truncate traceback\u001b[39;00m\n\u001b[1;32m-> <a href='file:///~/AppData/Roaming/Python/Python310/site-packages/ipykernel/kernelbase.py?line=1088'>1089</a>\u001b[0m     \u001b[39mraise\u001b[39;00m \u001b[39mKeyboardInterrupt\u001b[39;00m(\u001b[39m\"\u001b[39m\u001b[39mInterrupted by user\u001b[39m\u001b[39m\"\u001b[39m) \u001b[39mfrom\u001b[39;00m \u001b[39mNone\u001b[39m\n\u001b[0;32m   <a href='file:///~/AppData/Roaming/Python/Python310/site-packages/ipykernel/kernelbase.py?line=1089'>1090</a>\u001b[0m \u001b[39mexcept\u001b[39;00m \u001b[39mException\u001b[39;00m:\n\u001b[0;32m   <a href='file:///~/AppData/Roaming/Python/Python310/site-packages/ipykernel/kernelbase.py?line=1090'>1091</a>\u001b[0m     \u001b[39mself\u001b[39m\u001b[39m.\u001b[39mlog\u001b[39m.\u001b[39mwarning(\u001b[39m\"\u001b[39m\u001b[39mInvalid Message:\u001b[39m\u001b[39m\"\u001b[39m, exc_info\u001b[39m=\u001b[39m\u001b[39mTrue\u001b[39;00m)\n",
      "\u001b[1;31mKeyboardInterrupt\u001b[0m: Interrupted by user"
     ]
    }
   ],
   "source": [
    "import re\n",
    "for i in range(int(input())):\n",
    "    S = input().strip()\n",
    "    _match = re.search(r'^[456]\\d{3}(-?)\\d{4}\\1\\d{4}\\1\\d{4}$',S)\n",
    "    if_match:\n",
    "        _string = \"\".join(_match.group(0).split('-'))\n",
    "        match = re.search(r'(\\d)\\1{3,}',_string)\n",
    "        if match:\n",
    "            print('Invalid')\n",
    "        else :\n",
    "            print('Valid')\n",
    "    else:\n",
    "        print('Invalid')"
   ]
  },
  {
   "cell_type": "code",
   "execution_count": null,
   "metadata": {},
   "outputs": [],
   "source": []
  }
 ],
 "metadata": {
  "interpreter": {
   "hash": "707aab0a078b6b4ae7605615109a6f7159987081daedafbf3334295fb1ab1b6c"
  },
  "kernelspec": {
   "display_name": "Python 3.10.2 64-bit",
   "language": "python",
   "name": "python3"
  },
  "language_info": {
   "codemirror_mode": {
    "name": "ipython",
    "version": 3
   },
   "file_extension": ".py",
   "mimetype": "text/x-python",
   "name": "python",
   "nbconvert_exporter": "python",
   "pygments_lexer": "ipython3",
   "version": "3.10.2"
  },
  "orig_nbformat": 4
 },
 "nbformat": 4,
 "nbformat_minor": 2
}

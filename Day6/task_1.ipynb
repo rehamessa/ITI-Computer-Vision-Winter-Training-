{
 "cells": [
  {
   "cell_type": "markdown",
   "metadata": {},
   "source": [
    "#### write a function that takes a list of various data types and returns a dictionary with data  types as keys and with the data in the input list as items. Note: Function type() returns data type of input, example: type(3) will return intSample input"
   ]
  },
  {
   "cell_type": "code",
   "execution_count": 4,
   "metadata": {},
   "outputs": [
    {
     "name": "stdout",
     "output_type": "stream",
     "text": [
      "1 <class 'int'>\n",
      "1.3 <class 'float'>\n",
      "7 <class 'int'>\n",
      "4.4 <class 'float'>\n",
      "hi <class 'str'>\n",
      "[1, 0] <class 'list'>\n",
      "45 <class 'str'>\n"
     ]
    }
   ],
   "source": [
    "def list_elements(a_list):\n",
    "    for element in a_list:\n",
    "        print (element, type(element) )\n",
    "\n",
    "list_elements([1, 1.3, 7, 4.4, \"hi\",[1,0],\"45\"])  \n",
    " "
   ]
  },
  {
   "cell_type": "code",
   "execution_count": null,
   "metadata": {},
   "outputs": [],
   "source": []
  }
 ],
 "metadata": {
  "interpreter": {
   "hash": "707aab0a078b6b4ae7605615109a6f7159987081daedafbf3334295fb1ab1b6c"
  },
  "kernelspec": {
   "display_name": "Python 3.10.2 64-bit",
   "language": "python",
   "name": "python3"
  },
  "language_info": {
   "codemirror_mode": {
    "name": "ipython",
    "version": 3
   },
   "file_extension": ".py",
   "mimetype": "text/x-python",
   "name": "python",
   "nbconvert_exporter": "python",
   "pygments_lexer": "ipython3",
   "version": "3.10.2"
  },
  "orig_nbformat": 4
 },
 "nbformat": 4,
 "nbformat_minor": 2
}
